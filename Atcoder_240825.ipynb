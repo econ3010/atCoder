{
  "nbformat": 4,
  "nbformat_minor": 0,
  "metadata": {
    "colab": {
      "provenance": [],
      "authorship_tag": "ABX9TyOviByzrq8aw4XVBMOpN4Qd",
      "include_colab_link": true
    },
    "kernelspec": {
      "name": "python3",
      "display_name": "Python 3"
    },
    "language_info": {
      "name": "python"
    }
  },
  "cells": [
    {
      "cell_type": "markdown",
      "metadata": {
        "id": "view-in-github",
        "colab_type": "text"
      },
      "source": [
        "<a href=\"https://colab.research.google.com/github/econ3010/atCoder/blob/main/Atcoder_240825.ipynb\" target=\"_parent\"><img src=\"https://colab.research.google.com/assets/colab-badge.svg\" alt=\"Open In Colab\"/></a>"
      ]
    },
    {
      "cell_type": "code",
      "execution_count": 1,
      "metadata": {
        "colab": {
          "base_uri": "https://localhost:8080/"
        },
        "id": "5lPW9qNTs3rj",
        "outputId": "4690514c-fd93-4472-e75d-7e8c21f2fc2b"
      },
      "outputs": [
        {
          "output_type": "stream",
          "name": "stdout",
          "text": [
            "2 2\n",
            "1 2 2 1\n"
          ]
        }
      ],
      "source": [
        "from itertools import permutations\n",
        "import sympy\n",
        "\n",
        "# 入力\n",
        "n, k = map(int, input().split())\n",
        "sequence = [i for i in range(1, n+1) for _ in range(k)]\n",
        "length = n * k\n",
        "\n",
        "# 全順列を生成し、リストに格納\n",
        "all_permutations = list(permutations(sequence))\n",
        "\n",
        "# 全順列の数\n",
        "amount = len(all_permutations)\n",
        "\n",
        "# 辞書順で中央の順列を取得\n",
        "point = (amount + 1) // 2 - 1\n",
        "target_permutation = all_permutations[point]\n",
        "\n",
        "# 結果を出力\n",
        "print(\" \".join(map(str, target_permutation)))"
      ]
    },
    {
      "cell_type": "code",
      "source": [
        "from itertools import permutations, islice\n",
        "import sympy\n",
        "\n",
        "# 入力\n",
        "n, k = map(int, input().split())\n",
        "sequence = [i for i in range(1, n+1) for _ in range(k)]\n",
        "length = n * k\n",
        "amount = sympy.factorial(length)\n",
        "point = (amount + 1) // 2 - 1  # 0から始まるインデックス\n",
        "\n",
        "# 特定の順列だけを効率的に取得\n",
        "target_permutation = next(islice(permutations(sequence), point, point+1))\n",
        "\n",
        "print(\" \".join(map(str, target_permutation)))"
      ],
      "metadata": {
        "id": "Rd6ZxMVns4wj"
      },
      "execution_count": null,
      "outputs": []
    }
  ]
}